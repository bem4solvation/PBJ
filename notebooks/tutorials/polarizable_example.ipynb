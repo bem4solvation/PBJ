{
 "cells": [
  {
   "cell_type": "markdown",
   "id": "4ec0bc45",
   "metadata": {},
   "source": [
    "# The AMOEBA force field\n",
    "\n",
    "PBJ has support for the AMOEBA force field, which has been used previously in the context of PB in the work by [Schnieders et al](https://pubs.aip.org/aip/jcp/article-abstract/126/12/124114/937503/Polarizable-atomic-multipole-solutes-in-a-Poisson?redirectedFrom=fulltext) and [Cooper](https://onlinelibrary.wiley.com/doi/abs/10.1002/jcc.25820), where it was ported to the BEM code [PyGBe](https://github.com/pygbe/pygbe). Next, an example"
   ]
  },
  {
   "cell_type": "code",
   "execution_count": null,
   "id": "6f9954c2",
   "metadata": {},
   "outputs": [],
   "source": [
    "import pbj"
   ]
  },
  {
   "cell_type": "code",
   "execution_count": null,
   "id": "617f7e91",
   "metadata": {},
   "outputs": [],
   "source": [
    "simulation = pbj.implicit_solvent.Simulation()\n",
    "simulation.ep_ex = 78.3"
   ]
  },
  {
   "cell_type": "markdown",
   "id": "c96ec0d7",
   "metadata": {},
   "source": [
    "PBJ uses a SOR self-consistent scheme for the induced dipoles. You can access and modify the tolerance with `induced_dipole_iter_tol`"
   ]
  },
  {
   "cell_type": "code",
   "execution_count": null,
   "id": "9537de06",
   "metadata": {},
   "outputs": [],
   "source": [
    "print(simulation.induced_dipole_iter_tol)"
   ]
  },
  {
   "cell_type": "markdown",
   "id": "0a662339",
   "metadata": {},
   "source": [
    "AMOEBA has several definitions of atomic radii. When generating the solute, `radius_keyword` can be `vdw` or `solute`, and `solute_radius_type` can be `PB`, `GK`, or `DDCOSMO` (depending on what was used to optimize those radiuses). As this is a PB calculation, we'll use `PB`for the `solute_radius_type`."
   ]
  },
  {
   "cell_type": "code",
   "execution_count": null,
   "id": "ed526291",
   "metadata": {
    "scrolled": true
   },
   "outputs": [],
   "source": [
    "pgb = pbj.implicit_solvent.Solute(\"1pgb_amoeba/1pgb.xyz\", force_field = \"amoeba\", radius_keyword=\"solute\", solute_radius_type=\"PB\")\n",
    "\n",
    "pgb.ep_in = 1.\n",
    "simulation.add_solute(pgb)"
   ]
  },
  {
   "cell_type": "markdown",
   "id": "21bb77cc",
   "metadata": {},
   "source": [
    "The next command activates a verbose version to see how the calculation advances. "
   ]
  },
  {
   "cell_type": "code",
   "execution_count": null,
   "id": "1c2b4d17",
   "metadata": {},
   "outputs": [],
   "source": [
    "pbj.implicit_solvent.simulation.bempp.api.enable_console_logging(\"info\")"
   ]
  },
  {
   "cell_type": "markdown",
   "id": "ddce57e0",
   "metadata": {},
   "source": [
    "And now we calculate..."
   ]
  },
  {
   "cell_type": "code",
   "execution_count": null,
   "id": "2112ac42",
   "metadata": {},
   "outputs": [],
   "source": [
    "simulation.calculate_solvation_energy()"
   ]
  },
  {
   "cell_type": "code",
   "execution_count": null,
   "id": "f67dc72e",
   "metadata": {},
   "outputs": [],
   "source": [
    "print(simulation.solutes[0].results['electrostatic_solvation_energy'])"
   ]
  },
  {
   "cell_type": "markdown",
   "id": "79ab4aa9",
   "metadata": {},
   "source": [
    "We can explore a lot of the intermediate results, which are available in the results dictionary"
   ]
  },
  {
   "cell_type": "code",
   "execution_count": null,
   "id": "8601f3b1",
   "metadata": {},
   "outputs": [],
   "source": [
    "print(simulation.solutes[0].results.keys())"
   ]
  },
  {
   "cell_type": "markdown",
   "id": "1d274a44",
   "metadata": {},
   "source": [
    "For example, the reaction field (derivative of the reaction potential) at the location of the atoms"
   ]
  },
  {
   "cell_type": "code",
   "execution_count": null,
   "id": "c87f89da",
   "metadata": {},
   "outputs": [],
   "source": [
    "print(simulation.solutes[0].results['gradphir_charges'])"
   ]
  },
  {
   "cell_type": "markdown",
   "id": "50baf1e2",
   "metadata": {},
   "source": [
    "And even plot the surface potential"
   ]
  },
  {
   "cell_type": "code",
   "execution_count": null,
   "id": "8da8266c",
   "metadata": {},
   "outputs": [],
   "source": [
    "simulation.solutes[0].results['phi'].plot()"
   ]
  }
 ],
 "metadata": {
  "kernelspec": {
   "display_name": "Python 3 (ipykernel)",
   "language": "python",
   "name": "python3"
  },
  "language_info": {
   "codemirror_mode": {
    "name": "ipython",
    "version": 3
   },
   "file_extension": ".py",
   "mimetype": "text/x-python",
   "name": "python",
   "nbconvert_exporter": "python",
   "pygments_lexer": "ipython3",
   "version": "3.9.12"
  }
 },
 "nbformat": 4,
 "nbformat_minor": 5
}
