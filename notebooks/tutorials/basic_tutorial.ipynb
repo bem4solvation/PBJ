{
 "cells": [
  {
   "cell_type": "markdown",
   "metadata": {},
   "source": [
    "# Attributes and Functions"
   ]
  },
  {
   "cell_type": "markdown",
   "metadata": {},
   "source": [
    "The following shows all of the needed attributes and functions to use the package. These are in the that one would tend to need them to perform a calculation. All values shown here are the default values used. Note the next is not a runnable cell! Scroll down for an actual example. "
   ]
  },
  {
   "cell_type": "markdown",
   "metadata": {},
   "source": [
    "```Python\n",
    "import pbj ## name to use for import\n",
    "\n",
    "simulation = pbj.implicit_solvent.Simulation() # Set up simulation\n",
    "\n",
    "## Creation of solute object which creates and imports surface mesh, and imports charge values and positions\n",
    "protein = pbj.implicit_solvent.Solute(\n",
    "    solute_file_path, ## This is the location of pqr file for the solute\n",
    "    external_mesh_file = None, ## Used to define location of external pre-create mesh to be used. If defined without file extension (../../surf_mesh) it is assumed to be an msms mesh (.vert/.face), else it is imported based on the file extension and can be of any type available in meshio\n",
    "    save_mesh_build_files = False, ## Whether you wish to save the files created during the building and import of the mesh (otherwise this takes place in a tempory folder)\n",
    "    mesh_build_files_dir = \"mesh_files/\", ## The directory where to save biuld files, if this is requested\n",
    "    mesh_density = 1.0, ## If msms is used to mesh this is the mesh density, however, if nanoshaper is used this is the grid_scale (Approximate conversions: density of 4 ≈ grid_scale of 1.6, density of 11 ≈ grid_scale of 2.7, density of 23 ≈ grid_scale of 3.9)\n",
    "    mesh_probe_radius = 1.4, ## Size of the probe to be used during SES generation\n",
    "    mesh_generator = \"nanoshaper\", ## Which porgram to use for gerating the surface mesh. NanoShpaer is inclued with the library, \n",
    "    print_times = False, ## Whether to print the time taken for varouis parts of the calculation (time to genertate RHS, time to pass to discrete, etc.)\n",
    "    force_field = \"amber\", ## Which force field to use in the generation of a pqr from a pdb (pdb2pqr must be installed for this)\n",
    "    formulation='direct', ## boundary integral formulation (see https://doi.org/10.1002/jcc.26825)\n",
    "    radius_keyword='solute', ## for Amoeba runs, find atomic radius under 'solute' or 'vdw' keywords\n",
    "    solute_radius_type='PB' ## for Amoeba runs and radius_keyword=='solute' choose PB, DDCOSMO, or GK optmized radii\n",
    ")\n",
    "\n",
    "## Add your protein to the simulation\n",
    "simulation.add_solute(protein)\n",
    "\n",
    "## The following attributes of the created object are used to save the arguments specified during the object's creation\n",
    "simulation.solutes[0].save_mesh_build_files\n",
    "simulation.solutes[0].mesh_build_files_dir\n",
    "simulation.solutes[0].mesh_density\n",
    "simulation.solutes[0].mesh_probe_radius\n",
    "simulation.solutes[0].mesh_generator\n",
    "simulation.force_field\n",
    "\n",
    "## As either a pdb or pqr can be specified, the following attribute shows which was used\n",
    "simulation.solutes[0].imported_file_type\n",
    "## If a pdb is used the path is saved to:\n",
    "simulation.solutes[0].pdb_path\n",
    "## else the used pqr path is saved to:\n",
    "simulation.solutes[0].pqr_path\n",
    "\n",
    "## The solute name is saved to the following attribute. If a pdb is used it is taken from this, otherwise it corresponds to the pqr filename\n",
    "simulation.solutes[0].solute_name\n",
    "\n",
    "## simulation.solutes[0].XX points at the same place as protein.XX, so you can also access that way\n",
    "\n",
    "protein.mesh ## Attribute contining the bemmp mesh object of the solute\n",
    "protein.q ## Attribute containing the pioint charges present in the the solute\n",
    "protein.x_q ## Attribute \n",
    "\n",
    "protein.mesh.number_of_elements\n",
    "\n",
    "## There are three different formulations avaible to solve the potential across the boundary\n",
    "## These are \"direct\" (linearized Poisson–Boltzmann equation), \"juffer\" (see Juffer ETal 1991) and \"alpha_beta\" (currently under analysis)\n",
    "## The formulation to be used is set with the following attribute:\n",
    "simulation.pb_formulation = \"direct\"\n",
    "\n",
    "## Attributes for the internal and external dielectric constants and inverse Debye length (kappa)\n",
    "simulation.solutes[0].ep_in = 4.0\n",
    "simulation.ep_ex = 80.0\n",
    "simulation.kappa = 0.125\n",
    "\n",
    "## Attributes for the aplha and beta values to be used in the case that this formulation is used\n",
    "simulation.pb_formulation_alpha = 1.0\n",
    "simulation.pb_formulation_beta = self.ep_ex/self.ep_in\n",
    "\n",
    "## Whether to apply or not calderon preconditioning (only if using alpha_beta), and which to apply (squared, interior or exterior)\n",
    "simulation.solutes[0].pb_formulation_preconditioning = False\n",
    "simulation.solutes[0].pb_formulation_preconditioning_type = \"block_diagonal\"\n",
    "\n",
    "## Attributes that can be changed for the GMRES solver\n",
    "simulation.gmres_tolerance = 1e-5\n",
    "simulation.gmres_max_iterations = 1000\n",
    "simulation.gmres_restart = 1000\n",
    "\n",
    "simulation.calculate_potential() ## Function to solve the potential across the boundary using the parameters set above (formulation, dielectric constants, etc.)\n",
    "\n",
    "## Attributes to whcih the results are saved\n",
    "protein.results['solver_iteration_count'] ## Iteration count of the GMRES solver\n",
    "protein.results['phi'] ## Bempp grid function of the potential on the surface mesh\n",
    "protein.results['d_phi'] ## Bempp grid function of the derivative of the potential on the surface mesh\n",
    "\n",
    "simulation.calculate_solvation_energy() ## Function to calculate the solvatation energy of the solute, using the results of the surface potential calculation\n",
    "\n",
    "## Attributes to whcih the results are saved\n",
    "protein.results['solvation_energy'] ## Solvatation energy calculated, in [kcal/mol]\n",
    "```"
   ]
  },
  {
   "cell_type": "markdown",
   "metadata": {},
   "source": [
    "---"
   ]
  },
  {
   "cell_type": "markdown",
   "metadata": {},
   "source": [
    "# Example"
   ]
  },
  {
   "cell_type": "markdown",
   "metadata": {},
   "source": [
    "Now a simple example of how to calulate the solvatation energy of a protein using an previously generated pqr file. In this case it will be the 1bpi protein having generated the pqr from the pdb file using the CHARMM force field. First we must import the main package."
   ]
  },
  {
   "cell_type": "code",
   "execution_count": 1,
   "metadata": {},
   "outputs": [],
   "source": [
    "import pbj"
   ]
  },
  {
   "cell_type": "markdown",
   "metadata": {},
   "source": [
    "Now we create solute object, giving the path of the pqr file to be used."
   ]
  },
  {
   "cell_type": "code",
   "execution_count": null,
   "metadata": {},
   "outputs": [],
   "source": [
    "simulation = pbj.implicit_solvent.Simulation()\n",
    "protein = pbj.implicit_solvent.Solute(\"pqrs/1bpi.pqr\")\n",
    "simulation.add_solute(protein)"
   ]
  },
  {
   "cell_type": "markdown",
   "metadata": {},
   "source": [
    "If a previously created msms or other type of mesh is to be used, we can import it as follows."
   ]
  },
  {
   "cell_type": "code",
   "execution_count": null,
   "metadata": {},
   "outputs": [],
   "source": [
    "#protein = pbj.implicit_solvent.Solute(\"5pti.pqr\" , external_mesh_file = \"surf_d02\") ## If no extension is found it is assumed to be .vert/.face\n",
    "\n",
    "#protein = pbj.implicit_solvent.Solute(\"5pti.pqr\" , external_mesh_file = \"surf_d02.off\") ## Or any file supported by meshio can be used"
   ]
  },
  {
   "cell_type": "markdown",
   "metadata": {},
   "source": [
    "Now we have gerated and imported the mesh, as well as the charges and their positons. As the mesh is a bempp mesh object we can manipulate it with the corresponding functions for this object."
   ]
  },
  {
   "cell_type": "code",
   "execution_count": null,
   "metadata": {},
   "outputs": [],
   "source": [
    "print(\"Number of elements:\", protein.mesh.number_of_elements)\n",
    "print(\"Number of vertices:\", protein.mesh.number_of_vertices)\n",
    "#protein.mesh.plot() ## Uncomment to see a plot of the surface mesh"
   ]
  },
  {
   "cell_type": "markdown",
   "metadata": {},
   "source": [
    "As we will calculate the energy using all of the default options we only need call the calculate_solvation_energy() function."
   ]
  },
  {
   "cell_type": "code",
   "execution_count": null,
   "metadata": {},
   "outputs": [],
   "source": [
    "simulation.calculate_solvation_energy()"
   ]
  },
  {
   "cell_type": "markdown",
   "metadata": {},
   "source": [
    "This has first calculated the potential on the surface mesh, then calculated the solvation energy of the protein which we can print as follows:"
   ]
  },
  {
   "cell_type": "code",
   "execution_count": null,
   "metadata": {},
   "outputs": [],
   "source": [
    "print(\"Electrostatic solvation energy:\", simulation.solutes[0].results['electrostatic_solvation_energy'], \"[kcal/mol]\")"
   ]
  },
  {
   "cell_type": "markdown",
   "metadata": {},
   "source": [
    "Let's check out what other intermediate results are available after computing the solvation energy"
   ]
  },
  {
   "cell_type": "code",
   "execution_count": null,
   "metadata": {},
   "outputs": [],
   "source": [
    "print(simulation.solutes[0].results.keys())"
   ]
  },
  {
   "cell_type": "markdown",
   "metadata": {},
   "source": [
    "Now we can, for example, plot the potential on the surface "
   ]
  },
  {
   "cell_type": "code",
   "execution_count": null,
   "metadata": {},
   "outputs": [],
   "source": [
    "simulation.solutes[0].results['phi'].plot()"
   ]
  },
  {
   "cell_type": "markdown",
   "metadata": {},
   "source": [
    "Let's rerun with a different formulation, such as the one used by Lu et al (see https://doi.org/10.1073/pnas.0605166103 and https://doi.org/10.1002/jcc.26825)"
   ]
  },
  {
   "cell_type": "code",
   "execution_count": null,
   "metadata": {},
   "outputs": [],
   "source": [
    "simulation.solutes[0].display_available_formulations()"
   ]
  },
  {
   "cell_type": "code",
   "execution_count": null,
   "metadata": {},
   "outputs": [],
   "source": [
    "simulation2 = pbj.implicit_solvent.Simulation(formulation='lu')\n",
    "protein2 = pbj.implicit_solvent.Solute(\"pqrs/1bpi.pqr\")\n",
    "simulation2.add_solute(protein2)"
   ]
  },
  {
   "cell_type": "code",
   "execution_count": null,
   "metadata": {},
   "outputs": [],
   "source": [
    "simulation2.calculate_solvation_energy()"
   ]
  },
  {
   "cell_type": "code",
   "execution_count": null,
   "metadata": {},
   "outputs": [],
   "source": [
    "simulation2.calculate_solvation_energy()\n",
    "print(\"Solvation energy:\", simulation2.solutes[0].results['electrostatic_solvation_energy'], \"[kcal/mol]\")"
   ]
  },
  {
   "cell_type": "code",
   "execution_count": null,
   "metadata": {},
   "outputs": [],
   "source": [
    "print(simulation.timings)\n",
    "print(simulation2.timings)"
   ]
  }
 ],
 "metadata": {
  "kernelspec": {
   "display_name": "Python 3 (ipykernel)",
   "language": "python",
   "name": "python3"
  },
  "language_info": {
   "codemirror_mode": {
    "name": "ipython",
    "version": 3
   },
   "file_extension": ".py",
   "mimetype": "text/x-python",
   "name": "python",
   "nbconvert_exporter": "python",
   "pygments_lexer": "ipython3",
   "version": "3.9.12"
  }
 },
 "nbformat": 4,
 "nbformat_minor": 4
}
