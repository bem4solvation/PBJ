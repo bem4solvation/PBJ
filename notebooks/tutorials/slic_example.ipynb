{
 "cells": [
  {
   "cell_type": "markdown",
   "id": "2de5dc44",
   "metadata": {},
   "source": [
    "# SLIC Formulation\n",
    "\n",
    "The SLIC (Solvation Layer Interface Condition) formulation includes a nonlinear boundary condition for the electric potential at the solute surface and addresses the charge-hydration assymetry in the Poisson-Boltzmann Model. For more info please refer to: https://pubs.acs.org/doi/10.1021/acs.jctc.6b00832. This formulation, as the direct stern formulation, uses two surfaces for computing potentials and solvation energies. Here, we will use it to study the interaction energy between two ions of radius 1.27 and charge of +1 and -1. The ions have a 2Å Stern layer and are located 7.5Å appart."
   ]
  },
  {
   "cell_type": "code",
   "execution_count": null,
   "id": "b3f8ead2",
   "metadata": {},
   "outputs": [],
   "source": [
    "import pbj"
   ]
  },
  {
   "cell_type": "code",
   "execution_count": null,
   "id": "e029b93c",
   "metadata": {},
   "outputs": [],
   "source": [
    "simulation = pbj.implicit_solvent.Simulation(formulation=\"slic\", stern_layer = True)"
   ]
  },
  {
   "cell_type": "markdown",
   "id": "9e9e16fb",
   "metadata": {},
   "source": [
    "`stern_layer=True`is redundant as the `slic`formulation will default to use a Stern layer. "
   ]
  },
  {
   "cell_type": "code",
   "execution_count": null,
   "id": "82fbf66c",
   "metadata": {},
   "outputs": [],
   "source": [
    "solute_1 = pbj.implicit_solvent.Solute(\"pqrs/ion_1.pqr\", mesh_generator=\"msms\", mesh_density = 15.0)\n",
    "solute_2 = pbj.implicit_solvent.Solute(\"pqrs/ion_2.pqr\", mesh_generator=\"msms\", mesh_density = 15.0)"
   ]
  },
  {
   "cell_type": "markdown",
   "id": "e88c234c",
   "metadata": {},
   "source": [
    "In this simulation, we will use parameters that are slightly different than the defaults. "
   ]
  },
  {
   "cell_type": "code",
   "execution_count": null,
   "id": "aff83b05",
   "metadata": {},
   "outputs": [],
   "source": [
    "solute_1.ep_in = 1\n",
    "solute_2.ep_in = 1\n",
    "solute_1.stern_mesh_density_ratio = 0.2\n",
    "solute_2.stern_mesh_density_ratio = 0.2\n",
    "solute_1.slic_alpha = 0.94\n",
    "solute_1.slic_beta = -18.72\n",
    "solute_1.slic_gamma = -0.47\n",
    "solute_2.slic_alpha = 0.94\n",
    "solute_2.slic_beta = -18.72\n",
    "solute_2.slic_gamma = -0.47"
   ]
  },
  {
   "cell_type": "code",
   "execution_count": null,
   "id": "072ff3ed",
   "metadata": {
    "scrolled": true
   },
   "outputs": [],
   "source": [
    "simulation.gmres_tolerance = 1e-5\n",
    "simulation.slic_max_iterations = 20\n",
    "simulation.slic_tolerance = 1e-3\n",
    "simulation.kappa = 1e-15\n",
    "simulation.add_solute(solute_1)\n",
    "simulation.add_solute(solute_2)"
   ]
  },
  {
   "cell_type": "markdown",
   "id": "6d8fbd42",
   "metadata": {},
   "source": [
    "and now, we calculate"
   ]
  },
  {
   "cell_type": "code",
   "execution_count": null,
   "id": "be63ea87",
   "metadata": {},
   "outputs": [],
   "source": [
    "pbj.implicit_solvent.simulation.bempp.api.enable_console_logging(\"info\")\n",
    "simulation.calculate_solvation_energy()"
   ]
  },
  {
   "cell_type": "markdown",
   "id": "b517106b",
   "metadata": {},
   "source": [
    "Checking out results"
   ]
  },
  {
   "cell_type": "code",
   "execution_count": null,
   "id": "b10e9eaf",
   "metadata": {},
   "outputs": [],
   "source": [
    "total_solvation_energy = simulation.solutes[0].results[\"electrostatic_solvation_energy\"] + simulation.solutes[1].results[\"electrostatic_solvation_energy\"]\n",
    "print(total_solvation_energy)"
   ]
  },
  {
   "cell_type": "markdown",
   "id": "76bb0da9",
   "metadata": {},
   "source": [
    "Next, we compute the solvation energy of each ion individually. The cool thing about SLIC is that it considers charge asymmetry, making the solvation energy of the +1 ion different from the -1 ion. This is not possible with standard PB."
   ]
  },
  {
   "cell_type": "code",
   "execution_count": null,
   "id": "c59dfc9d",
   "metadata": {
    "scrolled": true
   },
   "outputs": [],
   "source": [
    "simulation_1 = pbj.implicit_solvent.Simulation(formulation=\"slic\", stern_layer = True)\n",
    "solute_1_alone = pbj.implicit_solvent.Solute(\"pqrs/ion_1.pqr\", mesh_generator=\"msms\", mesh_density = 15.0)\n",
    "pbj.implicit_solvent.simulation.bempp.api.enable_console_logging(\"info\")\n",
    "solute_1_alone.ep_in = 1\n",
    "solute_1_alone.stern_mesh_density_ratio = 0.2\n",
    "solute_1_alone.slic_alpha = 0.94\n",
    "solute_1_alone.slic_beta = -18.72\n",
    "solute_1_alone.slic_gamma = -0.47\n",
    "simulation_1.gmres_tolerance = 1e-5\n",
    "simulation_1.slic_max_iterations = 20\n",
    "simulation_1.slic_tolerance = 1e-3\n",
    "simulation_1.kappa = 1e-15\n",
    "simulation_1.add_solute(solute_1_alone)\n",
    "simulation_1.calculate_solvation_energy()\n",
    "energy_ion_p1 = simulation_1.solutes[0].results[\"electrostatic_solvation_energy\"]"
   ]
  },
  {
   "cell_type": "code",
   "execution_count": null,
   "id": "3f2cb278",
   "metadata": {},
   "outputs": [],
   "source": [
    "print(energy_ion_p1)"
   ]
  },
  {
   "cell_type": "code",
   "execution_count": null,
   "id": "b5d040e6",
   "metadata": {},
   "outputs": [],
   "source": [
    "simulation_2 = pbj.implicit_solvent.Simulation(formulation=\"slic\", stern_layer = True)\n",
    "solute_2_alone = pbj.implicit_solvent.Solute(\"pqrs/ion_2.pqr\", mesh_generator=\"msms\", mesh_density = 15.0)\n",
    "solute_2_alone.ep_in = 1\n",
    "solute_2_alone.stern_mesh_density_ratio = 0.2\n",
    "solute_2_alone.slic_alpha = 0.94\n",
    "solute_2_alone.slic_beta = -18.72\n",
    "solute_2_alone.slic_gamma = -0.47\n",
    "simulation_2.gmres_tolerance = 1e-5\n",
    "simulation_2.slic_max_iterations = 20\n",
    "simulation_2.slic_tolerance = 1e-3\n",
    "simulation_2.kappa = 1e-15\n",
    "simulation_2.add_solute(solute_2_alone)\n",
    "simulation_2.calculate_solvation_energy()\n",
    "simulation_1.calculate_solvation_energy()\n",
    "energy_ion_m1 = simulation_2.solutes[0].results[\"electrostatic_solvation_energy\"]"
   ]
  },
  {
   "cell_type": "code",
   "execution_count": null,
   "id": "518124a3",
   "metadata": {},
   "outputs": [],
   "source": [
    "inter_energy = total_solvation_energy - energy_ion_p1 - energy_ion_m1\n",
    "print(inter_energy)"
   ]
  },
  {
   "cell_type": "markdown",
   "id": "a59aa36f",
   "metadata": {},
   "source": [
    "## SLIC Prop. Formulation (work in progress)\n",
    "\n",
    "The SLIC Prop. formulation it's a modification to the SLIC formulation that includes a new non-linear boundary condition in the outer surface. In most cases, the results are close to the SLIC formulation but, in cases where the total charge of the solute is zero, the SLIC Prop. formulation effectively computes the electric potential on the outer surface whereas the SLIC formulation isn't. For this example let's simulate a two atoms system with opposite charges:"
   ]
  },
  {
   "cell_type": "code",
   "execution_count": null,
   "id": "12b7c3e0",
   "metadata": {},
   "outputs": [],
   "source": [
    "simulation = pbj.implicit_solvent.Simulation(formulation = 'slic_prop')\n",
    "atoms = pbj.implicit_solvent.Solute('pqrs/2_atoms.pqr', mesh_density = 5.0 , mesh_generator = 'msms')\n",
    "simulation.add_solute(atoms)"
   ]
  },
  {
   "cell_type": "code",
   "execution_count": null,
   "id": "ad81f5bc",
   "metadata": {},
   "outputs": [],
   "source": [
    "simulation.solutes[0].ep_in = 1\n",
    "simulation.kappa = 0\n",
    "simulation.solutes[0].ep_stern = 80 \n",
    "simulation.solutes[0].pb_formulation_stern_width = 2.0 \n",
    "simulation.solutes[0].stern_mesh_density = 2"
   ]
  },
  {
   "cell_type": "code",
   "execution_count": null,
   "id": "ec65215c",
   "metadata": {},
   "outputs": [],
   "source": [
    "simulation.slic_alpha = 0.94\n",
    "simulation.slic_beta = -18.72\n",
    "simulation.slic_gamma = -0.47"
   ]
  },
  {
   "cell_type": "code",
   "execution_count": null,
   "id": "00979b42",
   "metadata": {},
   "outputs": [],
   "source": [
    "simulation.calculate_potential(rerun_all = True)"
   ]
  },
  {
   "cell_type": "code",
   "execution_count": null,
   "id": "7f1f7ad9",
   "metadata": {},
   "outputs": [],
   "source": [
    "simulation.solutes[0].results['phi_stern'].plot()"
   ]
  },
  {
   "cell_type": "markdown",
   "id": "7955dee3",
   "metadata": {},
   "source": [
    "We can see a clear dipole in the plot, just as it should be. If we compute the same value using the SLIC formulation:"
   ]
  },
  {
   "cell_type": "code",
   "execution_count": null,
   "id": "89fbb22a",
   "metadata": {},
   "outputs": [],
   "source": [
    "simulation.pb_formulation = 'slic'\n",
    "simulation.calculate_potential(rerun_all = True)\n",
    "simulation.solutes[0].results['phi_stern'].plot()"
   ]
  },
  {
   "cell_type": "markdown",
   "id": "d2e49d0d",
   "metadata": {},
   "source": [
    "The dipole is no longer noticeable. "
   ]
  }
 ],
 "metadata": {
  "kernelspec": {
   "display_name": "Python 3 (ipykernel)",
   "language": "python",
   "name": "python3"
  },
  "language_info": {
   "codemirror_mode": {
    "name": "ipython",
    "version": 3
   },
   "file_extension": ".py",
   "mimetype": "text/x-python",
   "name": "python",
   "nbconvert_exporter": "python",
   "pygments_lexer": "ipython3",
   "version": "3.9.12"
  }
 },
 "nbformat": 4,
 "nbformat_minor": 5
}
