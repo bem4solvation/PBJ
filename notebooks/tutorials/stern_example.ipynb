{
 "cells": [
  {
   "cell_type": "markdown",
   "id": "22e15642",
   "metadata": {},
   "source": [
    "# Considering an ion-exclusion (Stern) layer: a two-surface model"
   ]
  },
  {
   "cell_type": "markdown",
   "id": "e874736c",
   "metadata": {},
   "source": [
    "The Poisson-Boltzmann single surface models treat the ions in the solvent as point charges and tends to overestimate their concentration in the proximities of charged surfaces. In reality, ions have a finite size thus there is a maximum number of them that can be close to a surface.\n",
    "\n",
    "To reduce this effect, one can include a new surface in the simulation that surrounds the first surface. The new region is called ion-exclusion layer or Stern Layer."
   ]
  },
  {
   "cell_type": "markdown",
   "id": "fbbe9a7b",
   "metadata": {},
   "source": [
    "## Direct Stern Formulation"
   ]
  },
  {
   "cell_type": "markdown",
   "id": "9df1853b",
   "metadata": {},
   "source": [
    "The Stern layer is only supported in the `direct` formulation, and is activated when defining the `Simulation`. Under the hood, this calls a different `direc_stern` formulation, which is a variation of the `direct` formulation that simulates two surfaces:  the original solute surface and the new ion-exclusion layer surface. Let´s see how it works: first we import the module and create the basic solute object."
   ]
  },
  {
   "cell_type": "code",
   "execution_count": null,
   "id": "c2dd80ec",
   "metadata": {},
   "outputs": [],
   "source": [
    "import pbj\n",
    "simulation = pbj.implicit_solvent.Simulation(formulation = 'direct', stern_layer=True)\n",
    "protein = pbj.implicit_solvent.Solute('pqrs/1bpi.pqr', mesh_density = 1)"
   ]
  },
  {
   "cell_type": "markdown",
   "id": "c20d8324",
   "metadata": {},
   "source": [
    "The surface mesh that interfaces the Stern layer with the solvent is only generated when the solute is added to te simulation. This mesh usually doesn't need to be as fine as the dielectric interface. By default, we set its density to half the dielectric interface density, but it can be modified with `stern_mesh_density_ratio`. "
   ]
  },
  {
   "cell_type": "code",
   "execution_count": null,
   "id": "aef4626e",
   "metadata": {},
   "outputs": [],
   "source": [
    "print(protein.stern_mesh_density_ratio)"
   ]
  },
  {
   "cell_type": "markdown",
   "id": "59f71274",
   "metadata": {},
   "source": [
    "Other parameters of the ion-exclusion (Stern) layer, like its permittivity or width, can also be modified. They default to the solvent permittivity and 2Å, respectively."
   ]
  },
  {
   "cell_type": "code",
   "execution_count": null,
   "id": "e7f381fc",
   "metadata": {},
   "outputs": [],
   "source": [
    "print(protein.ep_stern)\n",
    "print(protein.pb_formulation_stern_width)"
   ]
  },
  {
   "cell_type": "markdown",
   "id": "b423f7a9",
   "metadata": {},
   "source": [
    "Let's now add the protein to the simulation"
   ]
  },
  {
   "cell_type": "code",
   "execution_count": null,
   "id": "6b260727",
   "metadata": {},
   "outputs": [],
   "source": [
    "simulation.add_solute(protein)"
   ]
  },
  {
   "cell_type": "markdown",
   "id": "f50e2dfa",
   "metadata": {},
   "source": [
    "The dielectric interface mesh looks like this:"
   ]
  },
  {
   "cell_type": "code",
   "execution_count": null,
   "id": "ce773414",
   "metadata": {},
   "outputs": [],
   "source": [
    "simulation.solutes[0].mesh.plot()"
   ]
  },
  {
   "cell_type": "markdown",
   "id": "748dc3f0",
   "metadata": {},
   "source": [
    "The direct stern formulation includes new parameters for the solute object:"
   ]
  },
  {
   "cell_type": "markdown",
   "id": "c90debfa",
   "metadata": {},
   "source": [
    "The new mesh is stored as a Solute object in the stern_object attribute:"
   ]
  },
  {
   "cell_type": "code",
   "execution_count": null,
   "id": "2d219bee",
   "metadata": {},
   "outputs": [],
   "source": [
    "simulation.solutes[0].stern_object.mesh.plot()"
   ]
  },
  {
   "cell_type": "markdown",
   "id": "47cf3de9",
   "metadata": {},
   "source": [
    "There are two preconditioners available for this formulation, but for direct it defaults to `block_diagonal`"
   ]
  },
  {
   "cell_type": "code",
   "execution_count": null,
   "id": "e60af3db",
   "metadata": {},
   "outputs": [],
   "source": [
    "print(simulation.solutes[0].display_available_preconditioners())\n",
    "print(simulation.solutes[0].pb_formulation_preconditioning_type)"
   ]
  },
  {
   "cell_type": "markdown",
   "id": "6f7f63b3",
   "metadata": {},
   "source": [
    "And now, we calculate. If you're curious of the progress of your simulation, wou can activate a verbose mode with `pbj.electrostatics.simulation.bempp.api.enable_console_logging(\"info\")`"
   ]
  },
  {
   "cell_type": "code",
   "execution_count": null,
   "id": "be68ec0f",
   "metadata": {},
   "outputs": [],
   "source": [
    "pbj.implicit_solvent.simulation.bempp.api.enable_console_logging(\"info\")\n",
    "simulation.calculate_solvation_energy()"
   ]
  },
  {
   "cell_type": "markdown",
   "id": "08d57ef9",
   "metadata": {},
   "source": [
    "Now the results attribute stores the electric potential and it's derivative in the new surface:"
   ]
  },
  {
   "cell_type": "code",
   "execution_count": null,
   "id": "7d74fe57",
   "metadata": {
    "scrolled": true
   },
   "outputs": [],
   "source": [
    "simulation.solutes[0].results.keys()"
   ]
  },
  {
   "cell_type": "code",
   "execution_count": null,
   "id": "c3c84348",
   "metadata": {},
   "outputs": [],
   "source": [
    "print(simulation.solutes[0].results[\"electrostatic_solvation_energy\"])"
   ]
  },
  {
   "cell_type": "code",
   "execution_count": null,
   "id": "59df5ed2",
   "metadata": {},
   "outputs": [],
   "source": [
    "simulation.solutes[0].results['phi_stern'].plot()"
   ]
  }
 ],
 "metadata": {
  "kernelspec": {
   "display_name": "Python 3 (ipykernel)",
   "language": "python",
   "name": "python3"
  },
  "language_info": {
   "codemirror_mode": {
    "name": "ipython",
    "version": 3
   },
   "file_extension": ".py",
   "mimetype": "text/x-python",
   "name": "python",
   "nbconvert_exporter": "python",
   "pygments_lexer": "ipython3",
   "version": "3.9.12"
  }
 },
 "nbformat": 4,
 "nbformat_minor": 5
}
